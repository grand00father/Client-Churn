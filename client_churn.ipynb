{
 "cells": [
  {
   "cell_type": "code",
   "execution_count": null,
   "metadata": {
    "id": "xw3Yf-rFV9rY"
   },
   "outputs": [],
   "source": []
  },
  {
   "cell_type": "markdown",
   "metadata": {
    "id": "DIi-7FBVCCmZ"
   },
   "source": [
    "# Классичесское машинное обучение"
   ]
  },
  {
   "cell_type": "code",
   "execution_count": 149,
   "metadata": {
    "id": "WxHe3BbICLJV"
   },
   "outputs": [],
   "source": [
    "import pandas as pd\n",
    "import numpy as np\n",
    "import matplotlib.pyplot as plt\n",
    "import seaborn as sns\n",
    "import xgboost as xg\n",
    "import lightgbm as lgb"
   ]
  },
  {
   "cell_type": "code",
   "execution_count": 139,
   "metadata": {
    "id": "V88rpoRICnG6"
   },
   "outputs": [],
   "source": [
    "from sklearn.preprocessing import OneHotEncoder, LabelEncoder\n",
    "from sklearn.preprocessing import StandardScaler\n",
    "from sklearn.model_selection import train_test_split, GridSearchCV\n",
    "from sklearn.linear_model import LinearRegression, LogisticRegression\n",
    "from sklearn.metrics import mean_absolute_error\n",
    "from sklearn.metrics import root_mean_squared_error\n",
    "from sklearn.metrics import classification_report\n",
    "from sklearn.ensemble import StackingClassifier\n",
    "from sklearn.neighbors import KNeighborsClassifier"
   ]
  },
  {
   "cell_type": "markdown",
   "metadata": {
    "id": "F7SPcKDYCny2"
   },
   "source": [
    "## Загрузка и предобработка данных\n",
    "\n",
    "Дана таблица bank_clients_data.csv, содержащая данные о клиентах банка.<br>Необходимо решить задачу классификации, покинул клиент банк или нет. <br>\n",
    "Поля таблицы:\n",
    "\n",
    "* RowNumber — соответствует номеру записи (строки)\n",
    "* СustomerId — id клиента;\n",
    "* Surname — фамилия клиента;\n",
    "* CreditScore — кредитный рейтиинг клиента, полученный в результате каких-то расчетов внутри банка;\n",
    "* Geography — местоположение клиента;\n",
    "* Gender — пол;\n",
    "* Age — возраст;\n",
    "* Tenure — количество лет, в течение которых человек является клиентом банка;\n",
    "* Balance — остаток на счете;\n",
    "* NumOfProducts — количество продуктов, которые клиент приобрел через банк;\n",
    "* HasCrCard — есть ли у клиента кредитная карта. 1-да, 0-нет;\n",
    "* IsActiveMember — активный-1 или нет-2 клиент;\n",
    "* EstimatedSalary — заработная плата;\n",
    "* Exited — перестал ли клиент пользоваться услугами банка и в принципе быть его клиентом. Целевая переменная. Характеризует отток.\n"
   ]
  },
  {
   "cell_type": "markdown",
   "metadata": {
    "id": "Nn8qwo6VLxqH"
   },
   "source": [
    "## 1. EDA. Общее представление о данных"
   ]
  },
  {
   "cell_type": "markdown",
   "metadata": {
    "id": "CXfyK0uxzjt_"
   },
   "source": [
    "#### 1. Выведем информацию о каждом столбце (среднее значение, среднее отклонение, основные процентили итп)"
   ]
  },
  {
   "cell_type": "code",
   "execution_count": 3,
   "metadata": {
    "id": "lxLlE4_u73n9"
   },
   "outputs": [
    {
     "name": "stdout",
     "output_type": "stream",
     "text": [
      "       Surname   CreditScore Geography Gender           Age        Tenure  \\\n",
      "count    10000  10000.000000     10000  10000  10000.000000  10000.000000   \n",
      "unique    2932           NaN         3      2           NaN           NaN   \n",
      "top      Smith           NaN    France   Male           NaN           NaN   \n",
      "freq        32           NaN      5014   5457           NaN           NaN   \n",
      "mean       NaN    650.528800       NaN    NaN     38.921800      5.012800   \n",
      "std        NaN     96.653299       NaN    NaN     10.487806      2.892174   \n",
      "min        NaN    350.000000       NaN    NaN     18.000000      0.000000   \n",
      "25%        NaN    584.000000       NaN    NaN     32.000000      3.000000   \n",
      "50%        NaN    652.000000       NaN    NaN     37.000000      5.000000   \n",
      "75%        NaN    718.000000       NaN    NaN     44.000000      7.000000   \n",
      "max        NaN    850.000000       NaN    NaN     92.000000     10.000000   \n",
      "\n",
      "              Balance  NumOfProducts    HasCrCard  IsActiveMember  \\\n",
      "count    10000.000000   10000.000000  10000.00000    10000.000000   \n",
      "unique            NaN            NaN          NaN             NaN   \n",
      "top               NaN            NaN          NaN             NaN   \n",
      "freq              NaN            NaN          NaN             NaN   \n",
      "mean     76485.889288       1.530200      0.70550        0.515100   \n",
      "std      62397.405202       0.581654      0.45584        0.499797   \n",
      "min          0.000000       1.000000      0.00000        0.000000   \n",
      "25%          0.000000       1.000000      0.00000        0.000000   \n",
      "50%      97198.540000       1.000000      1.00000        1.000000   \n",
      "75%     127644.240000       2.000000      1.00000        1.000000   \n",
      "max     250898.090000       4.000000      1.00000        1.000000   \n",
      "\n",
      "        EstimatedSalary        Exited  \n",
      "count      10000.000000  10000.000000  \n",
      "unique              NaN           NaN  \n",
      "top                 NaN           NaN  \n",
      "freq                NaN           NaN  \n",
      "mean      100090.239881      0.203700  \n",
      "std        57510.492818      0.402769  \n",
      "min           11.580000      0.000000  \n",
      "25%        51002.110000      0.000000  \n",
      "50%       100193.915000      0.000000  \n",
      "75%       149388.247500      0.000000  \n",
      "max       199992.480000      1.000000  \n"
     ]
    }
   ],
   "source": [
    "data = pd.read_csv('bank_clients_data.csv', index_col = False)\n",
    "print(data.drop(columns=['RowNumber','CustomerId']).describe(include='all'))"
   ]
  },
  {
   "cell_type": "markdown",
   "metadata": {
    "id": "7KyGVbfPz4l7"
   },
   "source": [
    "#### 2. 80% процентиль по полю зарплаты."
   ]
  },
  {
   "cell_type": "code",
   "execution_count": 5,
   "metadata": {
    "id": "LZDzSZ9KMHu1"
   },
   "outputs": [
    {
     "name": "stdout",
     "output_type": "stream",
     "text": [
      "80% процентиль по полю зарплаты: 159836.7\n"
     ]
    }
   ],
   "source": [
    "print(f'80% процентиль по полю зарплаты: {data['EstimatedSalary'].quantile(0.8).round(1)}')"
   ]
  },
  {
   "cell_type": "markdown",
   "metadata": {},
   "source": [
    "Данное значение по полю зарплаты говорит о том, что 80% клиентов банка получают не больше данной суммы. Если сравнить его с другими проценталями, то можно заметить, что клиентами банка являются люди с разными уровнями дохода. При этом, если посмотреть на верхние 20%, то видно, что в него также попадают люди с разным уровнем дохода."
   ]
  },
  {
   "cell_type": "markdown",
   "metadata": {
    "id": "RX_vYh5J0CE2"
   },
   "source": [
    "#### 3. Есть ли в данных пропущенные значения?"
   ]
  },
  {
   "cell_type": "code",
   "execution_count": 6,
   "metadata": {
    "id": "OWXxjg5N7-rO"
   },
   "outputs": [
    {
     "data": {
      "text/plain": [
       "False"
      ]
     },
     "execution_count": 6,
     "metadata": {},
     "output_type": "execute_result"
    }
   ],
   "source": [
    "data.isna().any().any()"
   ]
  },
  {
   "cell_type": "markdown",
   "metadata": {},
   "source": [
    "В данных нет пропущенных значений."
   ]
  },
  {
   "cell_type": "markdown",
   "metadata": {
    "id": "hiqrRVOLNTJ9"
   },
   "source": [
    "#### 4. Проверим сбалансированность классов и сделаем вывод \n"
   ]
  },
  {
   "cell_type": "code",
   "execution_count": 7,
   "metadata": {
    "id": "BrEOnItv7_5q"
   },
   "outputs": [
    {
     "data": {
      "application/vnd.microsoft.datawrangler.viewer.v0+json": {
       "columns": [
        {
         "name": "Exited",
         "rawType": "int64",
         "type": "integer"
        },
        {
         "name": "proportion",
         "rawType": "float64",
         "type": "float"
        }
       ],
       "ref": "2e6891ff-24ab-49a5-9da8-da7e99d7badf",
       "rows": [
        [
         "0",
         "0.7963"
        ],
        [
         "1",
         "0.2037"
        ]
       ],
       "shape": {
        "columns": 1,
        "rows": 2
       }
      },
      "text/plain": [
       "Exited\n",
       "0    0.7963\n",
       "1    0.2037\n",
       "Name: proportion, dtype: float64"
      ]
     },
     "execution_count": 7,
     "metadata": {},
     "output_type": "execute_result"
    }
   ],
   "source": [
    "data['Exited'].value_counts(normalize=True)"
   ]
  },
  {
   "cell_type": "markdown",
   "metadata": {},
   "source": [
    "Присутствует явный дисбаланс классов, что говорит о том, что при обучении это нужно будет учитывать, а также использовать соответствующие метрики качества."
   ]
  },
  {
   "cell_type": "markdown",
   "metadata": {
    "id": "yG8vLh18QEyK"
   },
   "source": [
    "## 2. Построение графиков "
   ]
  },
  {
   "cell_type": "markdown",
   "metadata": {
    "id": "TFzVXh5jrb3-"
   },
   "source": [
    "#### 1. Построим гистограмму распределения возраста клиентов."
   ]
  },
  {
   "cell_type": "code",
   "execution_count": 36,
   "metadata": {
    "id": "Xq3dnHNk8CYS"
   },
   "outputs": [
    {
     "data": {
      "image/png": "[encoded data removed]",
      "text/plain": [
       "<Figure size 1000x600 with 1 Axes>"
      ]
     },
     "metadata": {},
     "output_type": "display_data"
    }
   ],
   "source": [
    "plt.figure(figsize=(10, 6))\n",
    "plt.hist(data['Age'],\n",
    "         bins=8,\n",
    "         color='green',\n",
    "         edgecolor='black')\n",
    "plt.title('Гистограмма распределения возраста клиентов')\n",
    "plt.xlabel('Возраст клиентов')\n",
    "plt.ylabel('Количество клиентов')\n",
    "plt.grid(axis='y', linestyle='--')\n",
    "plt.show()"
   ]
  },
  {
   "cell_type": "markdown",
   "metadata": {
    "id": "ZDPyjGmBrNUr"
   },
   "source": [
    "#### 2. Построим график распределения количества ушедших клиентов исходя из их пола. Наверху каждого столбца отобразим количественный показатель."
   ]
  },
  {
   "cell_type": "code",
   "execution_count": 45,
   "metadata": {
    "id": "CtFDF_3g8GU0"
   },
   "outputs": [
    {
     "data": {
      "image/png": "[encoded data removed]",
      "text/plain": [
       "<Figure size 640x480 with 1 Axes>"
      ]
     },
     "metadata": {},
     "output_type": "display_data"
    }
   ],
   "source": [
    "target_gender = data[data['Exited'] == 1]['Gender'].value_counts()\n",
    "\n",
    "#plt.figure(figsize=(10, 6))\n",
    "bars = plt.bar(target_gender.index, target_gender.values, color=['red','blue'])\n",
    "plt.bar_label(bars)\n",
    "plt.title('Распределение количества ушедших клиентов исходя из их пола')\n",
    "plt.show()"
   ]
  },
  {
   "cell_type": "markdown",
   "metadata": {},
   "source": [
    "Вывод: Женщины чаще перестают быть клиентами банка , однако их доля от общего числа уходов составляет около 56%, т.е. разница с мужчинами небольшая. Возможно, если взять выборку большего размера, то их доля приблизится к 50%."
   ]
  },
  {
   "cell_type": "markdown",
   "metadata": {
    "id": "d6Q1P_jQtRKf"
   },
   "source": [
    "#### 3. Возьмем данные о географии клиентов и их доходах. Построим круговую диаграмму, отображающую картину среднего заработка по странам (должны быть видны страны и конкретные числовые значения)"
   ]
  },
  {
   "cell_type": "code",
   "execution_count": 62,
   "metadata": {
    "id": "5xT1NspF8Ibw"
   },
   "outputs": [
    {
     "data": {
      "image/png": "[encoded data removed]",
      "text/plain": [
       "<Figure size 640x480 with 1 Axes>"
      ]
     },
     "metadata": {},
     "output_type": "display_data"
    }
   ],
   "source": [
    "grpby_country = data.groupby('Geography')['EstimatedSalary'].mean()\n",
    "def make_autopct(values):\n",
    "    def my_autopct(pct):\n",
    "        total = sum(values)\n",
    "        val = int(round(pct * total / 100.0))\n",
    "        return f'{val}'\n",
    "    return my_autopct\n",
    "plt.pie(grpby_country.values, \n",
    "        autopct=make_autopct(grpby_country.values), \n",
    "        labels=grpby_country.index, \n",
    "        startangle=90)\n",
    "plt.title('Средний заработок по странам')\n",
    "plt.show()"
   ]
  },
  {
   "cell_type": "markdown",
   "metadata": {
    "id": "Xg5dhOpixXw-"
   },
   "source": [
    "#### 4. Построим тепловую карту корреляции всех признаков из таблицы. Согласно полученной карте, какие признаки показывают наибольшую взаимосвязь? "
   ]
  },
  {
   "cell_type": "code",
   "execution_count": 68,
   "metadata": {},
   "outputs": [
    {
     "name": "stdout",
     "output_type": "stream",
     "text": [
      "<class 'pandas.core.frame.DataFrame'>\n",
      "RangeIndex: 10000 entries, 0 to 9999\n",
      "Data columns (total 14 columns):\n",
      " #   Column           Non-Null Count  Dtype  \n",
      "---  ------           --------------  -----  \n",
      " 0   RowNumber        10000 non-null  int64  \n",
      " 1   CustomerId       10000 non-null  int64  \n",
      " 2   Surname          10000 non-null  object \n",
      " 3   CreditScore      10000 non-null  int64  \n",
      " 4   Geography        10000 non-null  object \n",
      " 5   Gender           10000 non-null  object \n",
      " 6   Age              10000 non-null  int64  \n",
      " 7   Tenure           10000 non-null  int64  \n",
      " 8   Balance          10000 non-null  float64\n",
      " 9   NumOfProducts    10000 non-null  int64  \n",
      " 10  HasCrCard        10000 non-null  int64  \n",
      " 11  IsActiveMember   10000 non-null  int64  \n",
      " 12  EstimatedSalary  10000 non-null  float64\n",
      " 13  Exited           10000 non-null  int64  \n",
      "dtypes: float64(2), int64(9), object(3)\n",
      "memory usage: 1.1+ MB\n"
     ]
    }
   ],
   "source": [
    "data.info()"
   ]
  },
  {
   "cell_type": "code",
   "execution_count": 18,
   "metadata": {
    "id": "68g3UbXr0HUJ"
   },
   "outputs": [
    {
     "data": {
      "image/png": "[encoded data removed]",
      "text/plain": [
       "<Figure size 1000x800 with 2 Axes>"
      ]
     },
     "metadata": {},
     "output_type": "display_data"
    }
   ],
   "source": [
    "plt.figure(figsize=(10, 8))\n",
    "sns.heatmap(data.drop(columns=['Surname','Geography','Gender']).corr(),\n",
    "            annot=True,\n",
    "            fmt=\".3f\",\n",
    "            linewidths=0.5)\n",
    "plt.title('Тепловая карта корреляции всех признаков')\n",
    "plt.show()"
   ]
  },
  {
   "cell_type": "markdown",
   "metadata": {},
   "source": [
    "Поскольку посчитать корреляцию можно только между числовыми признаками, а категориальные мы еще не кодировали, то тепловая карта строится без них. Наибольшую зависимость показывают признаки: Exited и Age, Exited и IsActiveMember, Balance и NumOfProducts."
   ]
  },
  {
   "cell_type": "markdown",
   "metadata": {
    "id": "APQys213y84B"
   },
   "source": [
    "## 3. Подготовка данных к использованию в алгоритмах ml"
   ]
  },
  {
   "cell_type": "markdown",
   "metadata": {
    "id": "NOzpxZo40ZTG"
   },
   "source": [
    "####  1. Избавимся от полей, которые являются неинформативными."
   ]
  },
  {
   "cell_type": "code",
   "execution_count": 19,
   "metadata": {},
   "outputs": [
    {
     "data": {
      "text/plain": [
       "10000"
      ]
     },
     "execution_count": 19,
     "metadata": {},
     "output_type": "execute_result"
    }
   ],
   "source": [
    "data['CustomerId'].nunique()"
   ]
  },
  {
   "cell_type": "code",
   "execution_count": 20,
   "metadata": {},
   "outputs": [
    {
     "data": {
      "text/plain": [
       "10000"
      ]
     },
     "execution_count": 20,
     "metadata": {},
     "output_type": "execute_result"
    }
   ],
   "source": [
    "data['RowNumber'].nunique()"
   ]
  },
  {
   "cell_type": "code",
   "execution_count": 21,
   "metadata": {
    "id": "epAO62ci1JMr"
   },
   "outputs": [],
   "source": [
    "clear_data = data.drop(columns=['RowNumber','CustomerId'])"
   ]
  },
  {
   "cell_type": "markdown",
   "metadata": {},
   "source": [
    "Столбцы RowNumber и CustomerId несут схожую информацию. При этом в этой информации нет необходимости, поскольку каждая запись в таблице несет информацию об уникальном клиенте. "
   ]
  },
  {
   "cell_type": "markdown",
   "metadata": {
    "id": "CTziexqH15Sa"
   },
   "source": [
    "#### 2. Переведем категориальные данные в числовые. "
   ]
  },
  {
   "cell_type": "code",
   "execution_count": 22,
   "metadata": {
    "id": "9nTskERjAF5M"
   },
   "outputs": [],
   "source": [
    "def encod(ohe_list, le_list):\n",
    "    encoder = OneHotEncoder(sparse_output=False, drop='first')\n",
    "    enc = encoder.fit_transform(clear_data[ohe_list])\n",
    "    enc_data =pd.DataFrame(enc, columns=encoder.get_feature_names_out(ohe_list))\n",
    "    data_enc = pd.concat([clear_data, enc_data], axis=1)\n",
    "    data_enc = data_enc.drop(ohe_list,axis=1)\n",
    "\n",
    "    LE_encoder = LabelEncoder()\n",
    "    for col in le_list:\n",
    "        data_enc[col] = LE_encoder.fit_transform(data_enc[col])\n",
    "    return data_enc"
   ]
  },
  {
   "cell_type": "code",
   "execution_count": 23,
   "metadata": {
    "id": "yYWPhkux8TfE"
   },
   "outputs": [],
   "source": [
    "obj_LE = ['Surname','Geography']\n",
    "obj_OHE = ['Gender']\n",
    "res_data = encod(obj_OHE, obj_LE)"
   ]
  },
  {
   "cell_type": "markdown",
   "metadata": {},
   "source": [
    "Использовалось два метода кодирования - One-Hot энкодер и Label энкодер. Поскольку у признака Surname большое количество уникальных значений, его необходимо кодировать Label энкодером."
   ]
  },
  {
   "cell_type": "markdown",
   "metadata": {
    "id": "Q5iO08h1EqSO"
   },
   "source": [
    "#### 3. Разделим данные на train (80%) и test (20%)\n",
    "\n",
    "1. Для задачи линейной регрессии, целевой признак Age<br>\n",
    "X_reg_train, X_reg_test, y_reg_train, y_reg_test\n",
    "\n",
    "2. Для задачи логистической регрессии. Целевой признак Exited<br>\n",
    "X_cl_train, X_cl_test, y_cl_train, y_cl_test"
   ]
  },
  {
   "cell_type": "code",
   "execution_count": 25,
   "metadata": {
    "id": "CrWaReJpzBYI"
   },
   "outputs": [],
   "source": [
    "X_reg_train, X_reg_test, y_reg_train, y_reg_test = train_test_split(res_data.drop(columns='Age'), res_data['Age'], test_size=0.2)\n",
    "X_cl_train, X_cl_test, y_cl_train, y_cl_test = train_test_split(res_data.drop(columns='Exited'), res_data['Exited'], test_size=0.2)"
   ]
  },
  {
   "cell_type": "markdown",
   "metadata": {
    "id": "11YzOHcpEVJ3"
   },
   "source": [
    "#### 4. Стандартизируем данные для классификации или регресии."
   ]
  },
  {
   "cell_type": "code",
   "execution_count": 30,
   "metadata": {
    "id": "eRI7-Ryx8X0H"
   },
   "outputs": [],
   "source": [
    "scaler = StandardScaler()\n",
    "\n",
    "scaler.fit(X_reg_train)\n",
    "X_reg_train = scaler.transform(X_reg_train)\n",
    "X_reg_test = scaler.transform(X_reg_test)"
   ]
  },
  {
   "cell_type": "code",
   "execution_count": 31,
   "metadata": {
    "id": "lURnwiJE8XT1"
   },
   "outputs": [],
   "source": [
    "scaler.fit(X_cl_train)\n",
    "X_cl_train = scaler.transform(X_cl_train)\n",
    "X_cl_test = scaler.transform(X_cl_test)"
   ]
  },
  {
   "cell_type": "markdown",
   "metadata": {},
   "source": [
    "Поскольку у некоторых признаков очень разные масштабы (разница в несколько порядков), лучше стандартизировать."
   ]
  },
  {
   "cell_type": "markdown",
   "metadata": {
    "id": "3LVrUJ1OAru8"
   },
   "source": [
    "## 4. Работа с ml моделями"
   ]
  },
  {
   "cell_type": "markdown",
   "metadata": {
    "id": "i1Rmx35DzUUq"
   },
   "source": [
    "#### 1. Реализуем модель линейной регрессии для поля 'Age' аналитическим способом, используя формулу весов, полученную от минимизации ошибок по методу наименьших квадратов. \n",
    "\n",
    "$ w = (X^TX)^{-1}X^TY $"
   ]
  },
  {
   "cell_type": "code",
   "execution_count": null,
   "metadata": {
    "id": "i9TiXoLa0hAD"
   },
   "outputs": [],
   "source": [
    "# Функция, которая принимает значения выборок, полученных выше (X_reg_train, X_reg_test, y_reg_train, y_reg_test) и \n",
    "# выдаёт среднюю абсолютную ошибку и корень из среднеквадратичной ошибки по тестовой выборке\n",
    "\n",
    "def lin_reg_1 (X_tr, y_tr, X_te, y_te):\n",
    "    X_tr = np.hstack([X_tr, np.ones((X_tr.shape[0], 1))])\n",
    "    X_te = np.hstack([X_te, np.ones((X_te.shape[0], 1))])\n",
    "\n",
    "    weights = np.linalg.inv(X_tr.T @ X_tr) @ X_tr.T @ y_tr\n",
    "    y_pr = X_te @ weights\n",
    "    \n",
    "    mae = mean_absolute_error(y_te, y_pr)\n",
    "    rmse = root_mean_squared_error(y_te, y_pr)\n",
    "    return mae, rmse"
   ]
  },
  {
   "cell_type": "code",
   "execution_count": 53,
   "metadata": {
    "id": "gjtWcAOW8hQx"
   },
   "outputs": [
    {
     "name": "stdout",
     "output_type": "stream",
     "text": [
      "MAE = 7.182515055434045; RMSE = 9.639121825405319\n"
     ]
    }
   ],
   "source": [
    "mae, rmse = lin_reg_1(X_reg_train, y_reg_train,X_reg_test,y_reg_test)\n",
    "print(f'MAE = {mae}; RMSE = {rmse}')"
   ]
  },
  {
   "cell_type": "markdown",
   "metadata": {},
   "source": [
    "Дополнительный столбец из 1 необходим для того, чтобы функция приближения имела свободный член."
   ]
  },
  {
   "cell_type": "markdown",
   "metadata": {
    "id": "YtSFPQHX5W5L"
   },
   "source": [
    "#### 2. Реализуем модель линейной регрессии при помощи любого готового пакета, сравним полученное mae из двух моделей, из этого решения и полученного выше. "
   ]
  },
  {
   "cell_type": "code",
   "execution_count": 56,
   "metadata": {
    "id": "raoRsCTL8iyG"
   },
   "outputs": [
    {
     "name": "stdout",
     "output_type": "stream",
     "text": [
      "MAE аналитическое = 7.182515055434045; MAE из пакета = 7.182515055434002\n",
      "Разница = 4.3520742565306136e-14\n"
     ]
    }
   ],
   "source": [
    "lin_reg = LinearRegression()\n",
    "lin_reg.fit(X_reg_train, y_reg_train)\n",
    "y_pred = lin_reg.predict(X_reg_test)\n",
    "\n",
    "mae_pack = mean_absolute_error(y_reg_test, lin_reg.predict(X_reg_test))\n",
    "\n",
    "print(f'MAE аналитическое = {mae}; MAE из пакета = {mae_pack}')\n",
    "print(f'Разница = {abs(mae-mae_pack)}')"
   ]
  },
  {
   "cell_type": "markdown",
   "metadata": {},
   "source": [
    "Вывод: аналитическое решение получилось очень схожим по качеству с пакетным, что может говорить о том, что в sklearn также используется аналитическое решение."
   ]
  },
  {
   "cell_type": "markdown",
   "metadata": {
    "id": "TMJYDGH05sk1"
   },
   "source": [
    "#### 3. Реализуем модель логистической регрессии для поля 'Exited'"
   ]
  },
  {
   "cell_type": "markdown",
   "metadata": {
    "id": "9sGcwyhzIuoi"
   },
   "source": [
    "1. Напишим функцию активации, которую в дальнейшем будем использовать. <br>\n",
    "$y_{pred}(y') = \\frac{1}{1 + e^{-\\langle y' \\rangle}}\n",
    "$"
   ]
  },
  {
   "cell_type": "code",
   "execution_count": null,
   "metadata": {
    "id": "1q2lDuBGMAl3"
   },
   "outputs": [],
   "source": [
    "def sigmoid(z):\n",
    "    y_pred = 1/(1 + np.exp(-z))\n",
    "    return y_pred"
   ]
  },
  {
   "cell_type": "markdown",
   "metadata": {
    "id": "aMUjmLYOmmux"
   },
   "source": [
    "2. Напишем функцию кроссэнтропии<br>\n",
    "$L(w) = -y\\, log\\,y_{pred} - (1-y)\\,log\\,(1-y_{pred})$"
   ]
  },
  {
   "cell_type": "code",
   "execution_count": null,
   "metadata": {
    "id": "C7CgVcmxj4ay"
   },
   "outputs": [],
   "source": [
    "def ce(y,y_pr):\n",
    "    loss = -y * np.log(sigmoid(y_pr)) - (1 - y) * np.log(1 - sigmoid(y_pr))"
   ]
  },
  {
   "cell_type": "markdown",
   "metadata": {
    "id": "uXYcFR_N0u50"
   },
   "source": [
    "3. Дополним архитектуру логистической регрессии. Обучим и предскажем результаты по тестовой выборки раннее полученнх данных для классификации. (X_cl_train, X_cl_test, y_cl_train, y_cl_test). <br>\n",
    "Цель: Получить weighted avg >= 0.68 по каждой метрике из отчёта"
   ]
  },
  {
   "cell_type": "code",
   "execution_count": null,
   "metadata": {
    "id": "sNU2Uz0cawvi"
   },
   "outputs": [],
   "source": [
    "class Hand_made_Logistic_reg:\n",
    "    \n",
    "    def sigmoid(self, h):\n",
    "        y_pred = 1/(1 + np.exp(-h))\n",
    "        return y_pred\n",
    "\n",
    "\n",
    "    def loss_function(self, X, y, weights): \n",
    "        y_hat = np.dot(X, weights)\n",
    "\n",
    "        return sum(-y * np.log(self.sigmoid(y_hat)) - (1 - y) * np.log(1 - self.sigmoid(y_hat)))  /len(X)\n",
    "\n",
    "    \n",
    "    def fit(self, X, y, epochs= 100, lr= 0.05):      \n",
    "        loss = []\n",
    "        X = np.hstack([X, np.ones((X.shape[0], 1))])\n",
    "        weights = np.random.rand(X.shape[1])\n",
    "        N = X.shape[0] #кол-во cтрочек в датасете \n",
    "                 \n",
    "        for epoch in range(epochs):        \n",
    "            # Градиентный спуск:\n",
    "            y_hat = self.sigmoid(np.dot(X, weights))\n",
    "\n",
    "            #Функция обновления весов \n",
    "            weights -= lr*(np.dot(X.T,(y_hat - y))/N)\n",
    "\n",
    "            loss.append(self.loss_function(X,y,weights))\n",
    "            #Отображение ошибок по эпохам во время обучения\n",
    "            print('Эпоха:', epoch, 'Loss:', loss[-1])\n",
    "        self.weights = weights\n",
    "        self.loss = loss\n",
    "     \n",
    "    \n",
    "    def predict(self, X):        \n",
    "        # скалярное умножение весов и новых значений х\n",
    "        X = np.hstack([X, np.ones((X.shape[0], 1))])\n",
    "        y_hat = self.sigmoid(np.dot(X, self.weights))\n",
    "        # возвращение списка значений, которые выше определенного уровня вероятности\n",
    "        return np.where(y_hat > 0.5, 1, 0)"
   ]
  },
  {
   "cell_type": "code",
   "execution_count": null,
   "metadata": {
    "id": "Iq2cS4WhawzP"
   },
   "outputs": [
    {
     "name": "stdout",
     "output_type": "stream",
     "text": [
      "Эпоха: 0 Loss: 1.1804682190978515\n",
      "Эпоха: 1 Loss: 1.1683938665273697\n",
      "Эпоха: 2 Loss: 1.1564521087181203\n",
      "Эпоха: 3 Loss: 1.144643218172772\n",
      "Эпоха: 4 Loss: 1.132967436808996\n",
      "Эпоха: 5 Loss: 1.1214249752613634\n",
      "Эпоха: 6 Loss: 1.1100160122108824\n",
      "Эпоха: 7 Loss: 1.0987406937443946\n",
      "Эпоха: 8 Loss: 1.0875991327460337\n",
      "Эпоха: 9 Loss: 1.0765914083229058\n",
      "Эпоха: 10 Loss: 1.0657175652670983\n",
      "Эпоха: 11 Loss: 1.054977613556075\n",
      "Эпоха: 12 Loss: 1.0443715278934307\n",
      "Эпоха: 13 Loss: 1.0338992472919115\n",
      "Эпоха: 14 Loss: 1.023560674700498\n",
      "Эпоха: 15 Loss: 1.0133556766772636\n",
      "Эпоха: 16 Loss: 1.0032840831095913\n",
      "Эпоха: 17 Loss: 0.9933456869832158\n",
      "Эпоха: 18 Loss: 0.9835402442014248\n",
      "Эпоха: 19 Loss: 0.9738674734556089\n",
      "Эпоха: 20 Loss: 0.9643270561481977\n",
      "Эпоха: 21 Loss: 0.9549186363688641\n",
      "Эпоха: 22 Loss: 0.9456418209247107\n",
      "Эпоха: 23 Loss: 0.9364961794249801\n",
      "Эпоха: 24 Loss: 0.9274812444206564\n",
      "Эпоха: 25 Loss: 0.9185965115991394\n",
      "Эпоха: 26 Loss: 0.9098414400339945\n",
      "Эпоха: 27 Loss: 0.9012154524895878\n",
      "Эпоха: 28 Loss: 0.8927179357802337\n",
      "Эпоха: 29 Loss: 0.8843482411832927\n",
      "Эпоха: 30 Loss: 0.8761056849054689\n",
      "Эпоха: 31 Loss: 0.8679895486013778\n",
      "Эпоха: 32 Loss: 0.8599990799432682\n",
      "Эпоха: 33 Loss: 0.8521334932406132\n",
      "Эпоха: 34 Loss: 0.8443919701081092\n",
      "Эпоха: 35 Loss: 0.8367736601804634\n",
      "Эпоха: 36 Loss: 0.8292776818721914\n",
      "Эпоха: 37 Loss: 0.821903123180504\n",
      "Эпоха: 38 Loss: 0.8146490425292177\n",
      "Эпоха: 39 Loss: 0.8075144696515082\n",
      "Эпоха: 40 Loss: 0.8004984065091967\n",
      "Эпоха: 41 Loss: 0.7935998282461653\n",
      "Эпоха: 42 Loss: 0.7868176841734004\n",
      "Эпоха: 43 Loss: 0.7801508987830832\n",
      "Эпоха: 44 Loss: 0.7735983727890824\n",
      "Эпоха: 45 Loss: 0.767158984191145\n",
      "Эпоха: 46 Loss: 0.7608315893600466\n",
      "Эпоха: 47 Loss: 0.7546150241409286\n",
      "Эпоха: 48 Loss: 0.7485081049720388\n",
      "Эпоха: 49 Loss: 0.7425096300160876\n",
      "Эпоха: 50 Loss: 0.7366183803014424\n",
      "Эпоха: 51 Loss: 0.7308331208704085\n",
      "Эпоха: 52 Loss: 0.7251526019318718\n",
      "Эпоха: 53 Loss: 0.7195755600156334\n",
      "Эпоха: 54 Loss: 0.7141007191258134\n",
      "Эпоха: 55 Loss: 0.7087267918907725\n",
      "Эпоха: 56 Loss: 0.7034524807070748\n",
      "Эпоха: 57 Loss: 0.6982764788750957\n",
      "Эпоха: 58 Loss: 0.6931974717239742\n",
      "Эпоха: 59 Loss: 0.6882141377237067\n",
      "Эпоха: 60 Loss: 0.6833251495822813\n",
      "Эпоха: 61 Loss: 0.6785291753258681\n",
      "Эпоха: 62 Loss: 0.6738248793601892\n",
      "Эпоха: 63 Loss: 0.6692109235113157\n",
      "Эпоха: 64 Loss: 0.6646859680442583\n",
      "Эпоха: 65 Loss: 0.6602486726578436\n",
      "Эпоха: 66 Loss: 0.6558976974544928\n",
      "Эпоха: 67 Loss: 0.651631703883645\n",
      "Эпоха: 68 Loss: 0.6474493556576947\n",
      "Эпоха: 69 Loss: 0.6433493196394391\n",
      "Эпоха: 70 Loss: 0.6393302667001505\n",
      "Эпоха: 71 Loss: 0.6353908725475189\n",
      "Эпоха: 72 Loss: 0.631529818522823\n",
      "Эпоха: 73 Loss: 0.6277457923668056\n",
      "Эпоха: 74 Loss: 0.6240374889538489\n",
      "Эпоха: 75 Loss: 0.6204036109941441\n",
      "Эпоха: 76 Loss: 0.6168428697036665\n",
      "Эпоха: 77 Loss: 0.6133539854418597\n",
      "Эпоха: 78 Loss: 0.6099356883170318\n",
      "Эпоха: 79 Loss: 0.6065867187595599\n",
      "Эпоха: 80 Loss: 0.6033058280630803\n",
      "Эпоха: 81 Loss: 0.6000917788939278\n",
      "Эпоха: 82 Loss: 0.5969433457691589\n",
      "Эпоха: 83 Loss: 0.5938593155035659\n",
      "Эпоха: 84 Loss: 0.5908384876261537\n",
      "Эпоха: 85 Loss: 0.5878796747666085\n",
      "Эпоха: 86 Loss: 0.5849817030123446\n",
      "Эпоха: 87 Loss: 0.5821434122367597\n",
      "Эпоха: 88 Loss: 0.5793636563993789\n",
      "Эпоха: 89 Loss: 0.5766413038185992\n",
      "Эпоха: 90 Loss: 0.5739752374177868\n",
      "Эпоха: 91 Loss: 0.5713643549455016\n",
      "Эпоха: 92 Loss: 0.568807569170656\n",
      "Эпоха: 93 Loss: 0.5663038080534263\n",
      "Эпоха: 94 Loss: 0.5638520148927594\n",
      "Эпоха: 95 Loss: 0.5614511484513244\n",
      "Эпоха: 96 Loss: 0.5591001830587697\n",
      "Эпоха: 97 Loss: 0.556798108694151\n",
      "Эпоха: 98 Loss: 0.5545439310483969\n",
      "Эпоха: 99 Loss: 0.5523366715676802\n"
     ]
    }
   ],
   "source": [
    "# Сlassification_report\n",
    "log_reg = Hand_made_Logistic_reg()\n",
    "log_reg.fit(X_cl_train, y_cl_train)"
   ]
  },
  {
   "cell_type": "code",
   "execution_count": 136,
   "metadata": {},
   "outputs": [
    {
     "name": "stdout",
     "output_type": "stream",
     "text": [
      "              precision    recall  f1-score   support\n",
      "\n",
      "           0       0.84      0.82      0.83      1606\n",
      "           1       0.33      0.36      0.34       394\n",
      "\n",
      "    accuracy                           0.73      2000\n",
      "   macro avg       0.58      0.59      0.59      2000\n",
      "weighted avg       0.74      0.73      0.73      2000\n",
      "\n"
     ]
    }
   ],
   "source": [
    "y_pred_cl = log_reg.predict(X_cl_test)\n",
    "CR = classification_report(y_cl_test,y_pred_cl)\n",
    "print(CR)"
   ]
  },
  {
   "cell_type": "markdown",
   "metadata": {
    "id": "LYvwNAqXxwl8"
   },
   "source": [
    "#### 4. Создадим стэк из 3-х моделей, одна из которых должна быть на оcнове бустинга деревьев, другая использоваться в комплексе с жадным подбором гиперпараметров."
   ]
  },
  {
   "cell_type": "code",
   "execution_count": null,
   "metadata": {
    "id": "JXa9Dbbv-rpy"
   },
   "outputs": [],
   "source": [
    "xgb = xg.XGBClassifier()\n",
    "lgboost = lgb.LGBMClassifier()\n",
    "\n",
    "knn = KNeighborsClassifier()\n",
    "param = {'n_neighbors': range(1, 30)}\n",
    "grid_search = GridSearchCV(estimator=knn,\n",
    "                           param_grid=param,\n",
    "                           cv=3)\n",
    "grid_search.fit(X_cl_train,y_cl_train)\n",
    "knn_grs = grid_search.best_estimator_"
   ]
  },
  {
   "cell_type": "code",
   "execution_count": null,
   "metadata": {},
   "outputs": [
    {
     "name": "stdout",
     "output_type": "stream",
     "text": [
      "[LightGBM] [Info] Number of positive: 1643, number of negative: 6357\n",
      "[LightGBM] [Info] Auto-choosing col-wise multi-threading, the overhead of testing was 0,001450 seconds.\n",
      "You can set `force_col_wise=true` to remove the overhead.\n",
      "[LightGBM] [Info] Total Bins 1115\n",
      "[LightGBM] [Info] Number of data points in the train set: 8000, number of used features: 11\n",
      "[LightGBM] [Info] [binary:BoostFromScore]: pavg=0,205375 -> initscore=-1,353033\n",
      "[LightGBM] [Info] Start training from score -1,353033\n",
      "[LightGBM] [Info] Number of positive: 1315, number of negative: 5085\n",
      "[LightGBM] [Info] Auto-choosing col-wise multi-threading, the overhead of testing was 0,000542 seconds.\n",
      "You can set `force_col_wise=true` to remove the overhead.\n",
      "[LightGBM] [Info] Total Bins 1116\n",
      "[LightGBM] [Info] Number of data points in the train set: 6400, number of used features: 11\n",
      "[LightGBM] [Info] [binary:BoostFromScore]: pavg=0,205469 -> initscore=-1,352458\n",
      "[LightGBM] [Info] Start training from score -1,352458\n",
      "[LightGBM] [Info] Number of positive: 1315, number of negative: 5085\n",
      "[LightGBM] [Info] Auto-choosing col-wise multi-threading, the overhead of testing was 0,000478 seconds.\n",
      "You can set `force_col_wise=true` to remove the overhead.\n",
      "[LightGBM] [Info] Total Bins 1115\n",
      "[LightGBM] [Info] Number of data points in the train set: 6400, number of used features: 11\n",
      "[LightGBM] [Info] [binary:BoostFromScore]: pavg=0,205469 -> initscore=-1,352458\n",
      "[LightGBM] [Info] Start training from score -1,352458\n",
      "[LightGBM] [Info] Number of positive: 1314, number of negative: 5086\n",
      "[LightGBM] [Info] Auto-choosing col-wise multi-threading, the overhead of testing was 0,000500 seconds.\n",
      "You can set `force_col_wise=true` to remove the overhead.\n",
      "[LightGBM] [Info] Total Bins 1115\n",
      "[LightGBM] [Info] Number of data points in the train set: 6400, number of used features: 11\n",
      "[LightGBM] [Info] [binary:BoostFromScore]: pavg=0,205313 -> initscore=-1,353416\n",
      "[LightGBM] [Info] Start training from score -1,353416\n",
      "[LightGBM] [Info] Number of positive: 1314, number of negative: 5086\n",
      "[LightGBM] [Info] Auto-choosing col-wise multi-threading, the overhead of testing was 0,000530 seconds.\n",
      "You can set `force_col_wise=true` to remove the overhead.\n",
      "[LightGBM] [Info] Total Bins 1115\n",
      "[LightGBM] [Info] Number of data points in the train set: 6400, number of used features: 11\n",
      "[LightGBM] [Info] [binary:BoostFromScore]: pavg=0,205313 -> initscore=-1,353416\n",
      "[LightGBM] [Info] Start training from score -1,353416\n",
      "[LightGBM] [Info] Number of positive: 1314, number of negative: 5086\n",
      "[LightGBM] [Info] Auto-choosing col-wise multi-threading, the overhead of testing was 0,000518 seconds.\n",
      "You can set `force_col_wise=true` to remove the overhead.\n",
      "[LightGBM] [Info] Total Bins 1115\n",
      "[LightGBM] [Info] Number of data points in the train set: 6400, number of used features: 11\n",
      "[LightGBM] [Info] [binary:BoostFromScore]: pavg=0,205313 -> initscore=-1,353416\n",
      "[LightGBM] [Info] Start training from score -1,353416\n"
     ]
    },
    {
     "data": {
      "text/html": [
       "<style>#sk-container-id-9 {\n",
       "  /* Definition of color scheme common for light and dark mode */\n",
       "  --sklearn-color-text: black;\n",
       "  --sklearn-color-line: gray;\n",
       "  /* Definition of color scheme for unfitted estimators */\n",
       "  --sklearn-color-unfitted-level-0: #fff5e6;\n",
       "  --sklearn-color-unfitted-level-1: #f6e4d2;\n",
       "  --sklearn-color-unfitted-level-2: #ffe0b3;\n",
       "  --sklearn-color-unfitted-level-3: chocolate;\n",
       "  /* Definition of color scheme for fitted estimators */\n",
       "  --sklearn-color-fitted-level-0: #f0f8ff;\n",
       "  --sklearn-color-fitted-level-1: #d4ebff;\n",
       "  --sklearn-color-fitted-level-2: #b3dbfd;\n",
       "  --sklearn-color-fitted-level-3: cornflowerblue;\n",
       "\n",
       "  /* Specific color for light theme */\n",
       "  --sklearn-color-text-on-default-background: var(--sg-text-color, var(--theme-code-foreground, var(--jp-content-font-color1, black)));\n",
       "  --sklearn-color-background: var(--sg-background-color, var(--theme-background, var(--jp-layout-color0, white)));\n",
       "  --sklearn-color-border-box: var(--sg-text-color, var(--theme-code-foreground, var(--jp-content-font-color1, black)));\n",
       "  --sklearn-color-icon: #696969;\n",
       "\n",
       "  @media (prefers-color-scheme: dark) {\n",
       "    /* Redefinition of color scheme for dark theme */\n",
       "    --sklearn-color-text-on-default-background: var(--sg-text-color, var(--theme-code-foreground, var(--jp-content-font-color1, white)));\n",
       "    --sklearn-color-background: var(--sg-background-color, var(--theme-background, var(--jp-layout-color0, #111)));\n",
       "    --sklearn-color-border-box: var(--sg-text-color, var(--theme-code-foreground, var(--jp-content-font-color1, white)));\n",
       "    --sklearn-color-icon: #878787;\n",
       "  }\n",
       "}\n",
       "\n",
       "#sk-container-id-9 {\n",
       "  color: var(--sklearn-color-text);\n",
       "}\n",
       "\n",
       "#sk-container-id-9 pre {\n",
       "  padding: 0;\n",
       "}\n",
       "\n",
       "#sk-container-id-9 input.sk-hidden--visually {\n",
       "  border: 0;\n",
       "  clip: rect(1px 1px 1px 1px);\n",
       "  clip: rect(1px, 1px, 1px, 1px);\n",
       "  height: 1px;\n",
       "  margin: -1px;\n",
       "  overflow: hidden;\n",
       "  padding: 0;\n",
       "  position: absolute;\n",
       "  width: 1px;\n",
       "}\n",
       "\n",
       "#sk-container-id-9 div.sk-dashed-wrapped {\n",
       "  border: 1px dashed var(--sklearn-color-line);\n",
       "  margin: 0 0.4em 0.5em 0.4em;\n",
       "  box-sizing: border-box;\n",
       "  padding-bottom: 0.4em;\n",
       "  background-color: var(--sklearn-color-background);\n",
       "}\n",
       "\n",
       "#sk-container-id-9 div.sk-container {\n",
       "  /* jupyter's `normalize.less` sets `[hidden] { display: none; }`\n",
       "     but bootstrap.min.css set `[hidden] { display: none !important; }`\n",
       "     so we also need the `!important` here to be able to override the\n",
       "     default hidden behavior on the sphinx rendered scikit-learn.org.\n",
       "     See: https://github.com/scikit-learn/scikit-learn/issues/21755 */\n",
       "  display: inline-block !important;\n",
       "  position: relative;\n",
       "}\n",
       "\n",
       "#sk-container-id-9 div.sk-text-repr-fallback {\n",
       "  display: none;\n",
       "}\n",
       "\n",
       "div.sk-parallel-item,\n",
       "div.sk-serial,\n",
       "div.sk-item {\n",
       "  /* draw centered vertical line to link estimators */\n",
       "  background-image: linear-gradient(var(--sklearn-color-text-on-default-background), var(--sklearn-color-text-on-default-background));\n",
       "  background-size: 2px 100%;\n",
       "  background-repeat: no-repeat;\n",
       "  background-position: center center;\n",
       "}\n",
       "\n",
       "/* Parallel-specific style estimator block */\n",
       "\n",
       "#sk-container-id-9 div.sk-parallel-item::after {\n",
       "  content: \"\";\n",
       "  width: 100%;\n",
       "  border-bottom: 2px solid var(--sklearn-color-text-on-default-background);\n",
       "  flex-grow: 1;\n",
       "}\n",
       "\n",
       "#sk-container-id-9 div.sk-parallel {\n",
       "  display: flex;\n",
       "  align-items: stretch;\n",
       "  justify-content: center;\n",
       "  background-color: var(--sklearn-color-background);\n",
       "  position: relative;\n",
       "}\n",
       "\n",
       "#sk-container-id-9 div.sk-parallel-item {\n",
       "  display: flex;\n",
       "  flex-direction: column;\n",
       "}\n",
       "\n",
       "#sk-container-id-9 div.sk-parallel-item:first-child::after {\n",
       "  align-self: flex-end;\n",
       "  width: 50%;\n",
       "}\n",
       "\n",
       "#sk-container-id-9 div.sk-parallel-item:last-child::after {\n",
       "  align-self: flex-start;\n",
       "  width: 50%;\n",
       "}\n",
       "\n",
       "#sk-container-id-9 div.sk-parallel-item:only-child::after {\n",
       "  width: 0;\n",
       "}\n",
       "\n",
       "/* Serial-specific style estimator block */\n",
       "\n",
       "#sk-container-id-9 div.sk-serial {\n",
       "  display: flex;\n",
       "  flex-direction: column;\n",
       "  align-items: center;\n",
       "  background-color: var(--sklearn-color-background);\n",
       "  padding-right: 1em;\n",
       "  padding-left: 1em;\n",
       "}\n",
       "\n",
       "\n",
       "/* Toggleable style: style used for estimator/Pipeline/ColumnTransformer box that is\n",
       "clickable and can be expanded/collapsed.\n",
       "- Pipeline and ColumnTransformer use this feature and define the default style\n",
       "- Estimators will overwrite some part of the style using the `sk-estimator` class\n",
       "*/\n",
       "\n",
       "/* Pipeline and ColumnTransformer style (default) */\n",
       "\n",
       "#sk-container-id-9 div.sk-toggleable {\n",
       "  /* Default theme specific background. It is overwritten whether we have a\n",
       "  specific estimator or a Pipeline/ColumnTransformer */\n",
       "  background-color: var(--sklearn-color-background);\n",
       "}\n",
       "\n",
       "/* Toggleable label */\n",
       "#sk-container-id-9 label.sk-toggleable__label {\n",
       "  cursor: pointer;\n",
       "  display: block;\n",
       "  width: 100%;\n",
       "  margin-bottom: 0;\n",
       "  padding: 0.5em;\n",
       "  box-sizing: border-box;\n",
       "  text-align: center;\n",
       "}\n",
       "\n",
       "#sk-container-id-9 label.sk-toggleable__label-arrow:before {\n",
       "  /* Arrow on the left of the label */\n",
       "  content: \"▸\";\n",
       "  float: left;\n",
       "  margin-right: 0.25em;\n",
       "  color: var(--sklearn-color-icon);\n",
       "}\n",
       "\n",
       "#sk-container-id-9 label.sk-toggleable__label-arrow:hover:before {\n",
       "  color: var(--sklearn-color-text);\n",
       "}\n",
       "\n",
       "/* Toggleable content - dropdown */\n",
       "\n",
       "#sk-container-id-9 div.sk-toggleable__content {\n",
       "  max-height: 0;\n",
       "  max-width: 0;\n",
       "  overflow: hidden;\n",
       "  text-align: left;\n",
       "  /* unfitted */\n",
       "  background-color: var(--sklearn-color-unfitted-level-0);\n",
       "}\n",
       "\n",
       "#sk-container-id-9 div.sk-toggleable__content.fitted {\n",
       "  /* fitted */\n",
       "  background-color: var(--sklearn-color-fitted-level-0);\n",
       "}\n",
       "\n",
       "#sk-container-id-9 div.sk-toggleable__content pre {\n",
       "  margin: 0.2em;\n",
       "  border-radius: 0.25em;\n",
       "  color: var(--sklearn-color-text);\n",
       "  /* unfitted */\n",
       "  background-color: var(--sklearn-color-unfitted-level-0);\n",
       "}\n",
       "\n",
       "#sk-container-id-9 div.sk-toggleable__content.fitted pre {\n",
       "  /* unfitted */\n",
       "  background-color: var(--sklearn-color-fitted-level-0);\n",
       "}\n",
       "\n",
       "#sk-container-id-9 input.sk-toggleable__control:checked~div.sk-toggleable__content {\n",
       "  /* Expand drop-down */\n",
       "  max-height: 200px;\n",
       "  max-width: 100%;\n",
       "  overflow: auto;\n",
       "}\n",
       "\n",
       "#sk-container-id-9 input.sk-toggleable__control:checked~label.sk-toggleable__label-arrow:before {\n",
       "  content: \"▾\";\n",
       "}\n",
       "\n",
       "/* Pipeline/ColumnTransformer-specific style */\n",
       "\n",
       "#sk-container-id-9 div.sk-label input.sk-toggleable__control:checked~label.sk-toggleable__label {\n",
       "  color: var(--sklearn-color-text);\n",
       "  background-color: var(--sklearn-color-unfitted-level-2);\n",
       "}\n",
       "\n",
       "#sk-container-id-9 div.sk-label.fitted input.sk-toggleable__control:checked~label.sk-toggleable__label {\n",
       "  background-color: var(--sklearn-color-fitted-level-2);\n",
       "}\n",
       "\n",
       "/* Estimator-specific style */\n",
       "\n",
       "/* Colorize estimator box */\n",
       "#sk-container-id-9 div.sk-estimator input.sk-toggleable__control:checked~label.sk-toggleable__label {\n",
       "  /* unfitted */\n",
       "  background-color: var(--sklearn-color-unfitted-level-2);\n",
       "}\n",
       "\n",
       "#sk-container-id-9 div.sk-estimator.fitted input.sk-toggleable__control:checked~label.sk-toggleable__label {\n",
       "  /* fitted */\n",
       "  background-color: var(--sklearn-color-fitted-level-2);\n",
       "}\n",
       "\n",
       "#sk-container-id-9 div.sk-label label.sk-toggleable__label,\n",
       "#sk-container-id-9 div.sk-label label {\n",
       "  /* The background is the default theme color */\n",
       "  color: var(--sklearn-color-text-on-default-background);\n",
       "}\n",
       "\n",
       "/* On hover, darken the color of the background */\n",
       "#sk-container-id-9 div.sk-label:hover label.sk-toggleable__label {\n",
       "  color: var(--sklearn-color-text);\n",
       "  background-color: var(--sklearn-color-unfitted-level-2);\n",
       "}\n",
       "\n",
       "/* Label box, darken color on hover, fitted */\n",
       "#sk-container-id-9 div.sk-label.fitted:hover label.sk-toggleable__label.fitted {\n",
       "  color: var(--sklearn-color-text);\n",
       "  background-color: var(--sklearn-color-fitted-level-2);\n",
       "}\n",
       "\n",
       "/* Estimator label */\n",
       "\n",
       "#sk-container-id-9 div.sk-label label {\n",
       "  font-family: monospace;\n",
       "  font-weight: bold;\n",
       "  display: inline-block;\n",
       "  line-height: 1.2em;\n",
       "}\n",
       "\n",
       "#sk-container-id-9 div.sk-label-container {\n",
       "  text-align: center;\n",
       "}\n",
       "\n",
       "/* Estimator-specific */\n",
       "#sk-container-id-9 div.sk-estimator {\n",
       "  font-family: monospace;\n",
       "  border: 1px dotted var(--sklearn-color-border-box);\n",
       "  border-radius: 0.25em;\n",
       "  box-sizing: border-box;\n",
       "  margin-bottom: 0.5em;\n",
       "  /* unfitted */\n",
       "  background-color: var(--sklearn-color-unfitted-level-0);\n",
       "}\n",
       "\n",
       "#sk-container-id-9 div.sk-estimator.fitted {\n",
       "  /* fitted */\n",
       "  background-color: var(--sklearn-color-fitted-level-0);\n",
       "}\n",
       "\n",
       "/* on hover */\n",
       "#sk-container-id-9 div.sk-estimator:hover {\n",
       "  /* unfitted */\n",
       "  background-color: var(--sklearn-color-unfitted-level-2);\n",
       "}\n",
       "\n",
       "#sk-container-id-9 div.sk-estimator.fitted:hover {\n",
       "  /* fitted */\n",
       "  background-color: var(--sklearn-color-fitted-level-2);\n",
       "}\n",
       "\n",
       "/* Specification for estimator info (e.g. \"i\" and \"?\") */\n",
       "\n",
       "/* Common style for \"i\" and \"?\" */\n",
       "\n",
       ".sk-estimator-doc-link,\n",
       "a:link.sk-estimator-doc-link,\n",
       "a:visited.sk-estimator-doc-link {\n",
       "  float: right;\n",
       "  font-size: smaller;\n",
       "  line-height: 1em;\n",
       "  font-family: monospace;\n",
       "  background-color: var(--sklearn-color-background);\n",
       "  border-radius: 1em;\n",
       "  height: 1em;\n",
       "  width: 1em;\n",
       "  text-decoration: none !important;\n",
       "  margin-left: 1ex;\n",
       "  /* unfitted */\n",
       "  border: var(--sklearn-color-unfitted-level-1) 1pt solid;\n",
       "  color: var(--sklearn-color-unfitted-level-1);\n",
       "}\n",
       "\n",
       ".sk-estimator-doc-link.fitted,\n",
       "a:link.sk-estimator-doc-link.fitted,\n",
       "a:visited.sk-estimator-doc-link.fitted {\n",
       "  /* fitted */\n",
       "  border: var(--sklearn-color-fitted-level-1) 1pt solid;\n",
       "  color: var(--sklearn-color-fitted-level-1);\n",
       "}\n",
       "\n",
       "/* On hover */\n",
       "div.sk-estimator:hover .sk-estimator-doc-link:hover,\n",
       ".sk-estimator-doc-link:hover,\n",
       "div.sk-label-container:hover .sk-estimator-doc-link:hover,\n",
       ".sk-estimator-doc-link:hover {\n",
       "  /* unfitted */\n",
       "  background-color: var(--sklearn-color-unfitted-level-3);\n",
       "  color: var(--sklearn-color-background);\n",
       "  text-decoration: none;\n",
       "}\n",
       "\n",
       "div.sk-estimator.fitted:hover .sk-estimator-doc-link.fitted:hover,\n",
       ".sk-estimator-doc-link.fitted:hover,\n",
       "div.sk-label-container:hover .sk-estimator-doc-link.fitted:hover,\n",
       ".sk-estimator-doc-link.fitted:hover {\n",
       "  /* fitted */\n",
       "  background-color: var(--sklearn-color-fitted-level-3);\n",
       "  color: var(--sklearn-color-background);\n",
       "  text-decoration: none;\n",
       "}\n",
       "\n",
       "/* Span, style for the box shown on hovering the info icon */\n",
       ".sk-estimator-doc-link span {\n",
       "  display: none;\n",
       "  z-index: 9999;\n",
       "  position: relative;\n",
       "  font-weight: normal;\n",
       "  right: .2ex;\n",
       "  padding: .5ex;\n",
       "  margin: .5ex;\n",
       "  width: min-content;\n",
       "  min-width: 20ex;\n",
       "  max-width: 50ex;\n",
       "  color: var(--sklearn-color-text);\n",
       "  box-shadow: 2pt 2pt 4pt #999;\n",
       "  /* unfitted */\n",
       "  background: var(--sklearn-color-unfitted-level-0);\n",
       "  border: .5pt solid var(--sklearn-color-unfitted-level-3);\n",
       "}\n",
       "\n",
       ".sk-estimator-doc-link.fitted span {\n",
       "  /* fitted */\n",
       "  background: var(--sklearn-color-fitted-level-0);\n",
       "  border: var(--sklearn-color-fitted-level-3);\n",
       "}\n",
       "\n",
       ".sk-estimator-doc-link:hover span {\n",
       "  display: block;\n",
       "}\n",
       "\n",
       "/* \"?\"-specific style due to the `<a>` HTML tag */\n",
       "\n",
       "#sk-container-id-9 a.estimator_doc_link {\n",
       "  float: right;\n",
       "  font-size: 1rem;\n",
       "  line-height: 1em;\n",
       "  font-family: monospace;\n",
       "  background-color: var(--sklearn-color-background);\n",
       "  border-radius: 1rem;\n",
       "  height: 1rem;\n",
       "  width: 1rem;\n",
       "  text-decoration: none;\n",
       "  /* unfitted */\n",
       "  color: var(--sklearn-color-unfitted-level-1);\n",
       "  border: var(--sklearn-color-unfitted-level-1) 1pt solid;\n",
       "}\n",
       "\n",
       "#sk-container-id-9 a.estimator_doc_link.fitted {\n",
       "  /* fitted */\n",
       "  border: var(--sklearn-color-fitted-level-1) 1pt solid;\n",
       "  color: var(--sklearn-color-fitted-level-1);\n",
       "}\n",
       "\n",
       "/* On hover */\n",
       "#sk-container-id-9 a.estimator_doc_link:hover {\n",
       "  /* unfitted */\n",
       "  background-color: var(--sklearn-color-unfitted-level-3);\n",
       "  color: var(--sklearn-color-background);\n",
       "  text-decoration: none;\n",
       "}\n",
       "\n",
       "#sk-container-id-9 a.estimator_doc_link.fitted:hover {\n",
       "  /* fitted */\n",
       "  background-color: var(--sklearn-color-fitted-level-3);\n",
       "}\n",
       "</style><div id=\"sk-container-id-9\" class=\"sk-top-container\"><div class=\"sk-text-repr-fallback\"><pre>StackingClassifier(estimators=[(&#x27;knn&#x27;, KNeighborsClassifier(n_neighbors=11)),\n",
       "                               (&#x27;XGb&#x27;,\n",
       "                                XGBClassifier(base_score=None, booster=None,\n",
       "                                              callbacks=None,\n",
       "                                              colsample_bylevel=None,\n",
       "                                              colsample_bynode=None,\n",
       "                                              colsample_bytree=None,\n",
       "                                              device=None,\n",
       "                                              early_stopping_rounds=None,\n",
       "                                              enable_categorical=False,\n",
       "                                              eval_metric=None,\n",
       "                                              feature_types=None,\n",
       "                                              feature_weights=None, gamma=None,\n",
       "                                              grow_polic...\n",
       "                                              interaction_constraints=None,\n",
       "                                              learning_rate=None, max_bin=None,\n",
       "                                              max_cat_threshold=None,\n",
       "                                              max_cat_to_onehot=None,\n",
       "                                              max_delta_step=None,\n",
       "                                              max_depth=None, max_leaves=None,\n",
       "                                              min_child_weight=None,\n",
       "                                              missing=nan,\n",
       "                                              monotone_constraints=None,\n",
       "                                              multi_strategy=None,\n",
       "                                              n_estimators=None, n_jobs=None,\n",
       "                                              num_parallel_tree=None, ...)),\n",
       "                               (&#x27;lgbm&#x27;, LGBMClassifier())],\n",
       "                   final_estimator=LogisticRegression())</pre><b>In a Jupyter environment, please rerun this cell to show the HTML representation or trust the notebook. <br />On GitHub, the HTML representation is unable to render, please try loading this page with nbviewer.org.</b></div><div class=\"sk-container\" hidden><div class=\"sk-item sk-dashed-wrapped\"><div class=\"sk-label-container\"><div class=\"sk-label fitted sk-toggleable\"><input class=\"sk-toggleable__control sk-hidden--visually\" id=\"sk-estimator-id-41\" type=\"checkbox\" ><label for=\"sk-estimator-id-41\" class=\"sk-toggleable__label fitted sk-toggleable__label-arrow fitted\">&nbsp;&nbsp;StackingClassifier<a class=\"sk-estimator-doc-link fitted\" rel=\"noreferrer\" target=\"_blank\" href=\"https://scikit-learn.org/1.4/modules/generated/sklearn.ensemble.StackingClassifier.html\">?<span>Documentation for StackingClassifier</span></a><span class=\"sk-estimator-doc-link fitted\">i<span>Fitted</span></span></label><div class=\"sk-toggleable__content fitted\"><pre>StackingClassifier(estimators=[(&#x27;knn&#x27;, KNeighborsClassifier(n_neighbors=11)),\n",
       "                               (&#x27;XGb&#x27;,\n",
       "                                XGBClassifier(base_score=None, booster=None,\n",
       "                                              callbacks=None,\n",
       "                                              colsample_bylevel=None,\n",
       "                                              colsample_bynode=None,\n",
       "                                              colsample_bytree=None,\n",
       "                                              device=None,\n",
       "                                              early_stopping_rounds=None,\n",
       "                                              enable_categorical=False,\n",
       "                                              eval_metric=None,\n",
       "                                              feature_types=None,\n",
       "                                              feature_weights=None, gamma=None,\n",
       "                                              grow_polic...\n",
       "                                              interaction_constraints=None,\n",
       "                                              learning_rate=None, max_bin=None,\n",
       "                                              max_cat_threshold=None,\n",
       "                                              max_cat_to_onehot=None,\n",
       "                                              max_delta_step=None,\n",
       "                                              max_depth=None, max_leaves=None,\n",
       "                                              min_child_weight=None,\n",
       "                                              missing=nan,\n",
       "                                              monotone_constraints=None,\n",
       "                                              multi_strategy=None,\n",
       "                                              n_estimators=None, n_jobs=None,\n",
       "                                              num_parallel_tree=None, ...)),\n",
       "                               (&#x27;lgbm&#x27;, LGBMClassifier())],\n",
       "                   final_estimator=LogisticRegression())</pre></div> </div></div><div class=\"sk-serial\"><div class=\"sk-item\"><div class=\"sk-parallel\"><div class=\"sk-parallel-item\"><div class=\"sk-item\"><div class=\"sk-label-container\"><div class=\"sk-label fitted sk-toggleable\"><label>knn</label></div></div><div class=\"sk-serial\"><div class=\"sk-item\"><div class=\"sk-estimator fitted sk-toggleable\"><input class=\"sk-toggleable__control sk-hidden--visually\" id=\"sk-estimator-id-42\" type=\"checkbox\" ><label for=\"sk-estimator-id-42\" class=\"sk-toggleable__label fitted sk-toggleable__label-arrow fitted\">&nbsp;KNeighborsClassifier<a class=\"sk-estimator-doc-link fitted\" rel=\"noreferrer\" target=\"_blank\" href=\"https://scikit-learn.org/1.4/modules/generated/sklearn.neighbors.KNeighborsClassifier.html\">?<span>Documentation for KNeighborsClassifier</span></a></label><div class=\"sk-toggleable__content fitted\"><pre>KNeighborsClassifier(n_neighbors=11)</pre></div> </div></div></div></div></div><div class=\"sk-parallel-item\"><div class=\"sk-item\"><div class=\"sk-label-container\"><div class=\"sk-label fitted sk-toggleable\"><label>XGb</label></div></div><div class=\"sk-serial\"><div class=\"sk-item\"><div class=\"sk-estimator fitted sk-toggleable\"><input class=\"sk-toggleable__control sk-hidden--visually\" id=\"sk-estimator-id-43\" type=\"checkbox\" ><label for=\"sk-estimator-id-43\" class=\"sk-toggleable__label fitted sk-toggleable__label-arrow fitted\">&nbsp;XGBClassifier<a class=\"sk-estimator-doc-link fitted\" rel=\"noreferrer\" target=\"_blank\" href=\"https://xgboost.readthedocs.io/en/release_3.0.0/python/python_api.html#xgboost.XGBClassifier\">?<span>Documentation for XGBClassifier</span></a></label><div class=\"sk-toggleable__content fitted\"><pre>XGBClassifier(base_score=None, booster=None, callbacks=None,\n",
       "              colsample_bylevel=None, colsample_bynode=None,\n",
       "              colsample_bytree=None, device=None, early_stopping_rounds=None,\n",
       "              enable_categorical=False, eval_metric=None, feature_types=None,\n",
       "              feature_weights=None, gamma=None, grow_policy=None,\n",
       "              importance_type=None, interaction_constraints=None,\n",
       "              learning_rate=None, max_bin=None, max_cat_threshold=None,\n",
       "              max_cat_to_onehot=None, max_delta_step=None, max_depth=None,\n",
       "              max_leaves=None, min_child_weight=None, missing=nan,\n",
       "              monotone_constraints=None, multi_strategy=None, n_estimators=None,\n",
       "              n_jobs=None, num_parallel_tree=None, ...)</pre></div> </div></div></div></div></div><div class=\"sk-parallel-item\"><div class=\"sk-item\"><div class=\"sk-label-container\"><div class=\"sk-label fitted sk-toggleable\"><label>lgbm</label></div></div><div class=\"sk-serial\"><div class=\"sk-item\"><div class=\"sk-estimator fitted sk-toggleable\"><input class=\"sk-toggleable__control sk-hidden--visually\" id=\"sk-estimator-id-44\" type=\"checkbox\" ><label for=\"sk-estimator-id-44\" class=\"sk-toggleable__label fitted sk-toggleable__label-arrow fitted\">LGBMClassifier</label><div class=\"sk-toggleable__content fitted\"><pre>LGBMClassifier()</pre></div> </div></div></div></div></div></div></div><div class=\"sk-item\"><div class=\"sk-parallel\"><div class=\"sk-parallel-item\"><div class=\"sk-item\"><div class=\"sk-label-container\"><div class=\"sk-label fitted sk-toggleable\"><label>final_estimator</label></div></div><div class=\"sk-serial\"><div class=\"sk-item\"><div class=\"sk-estimator fitted sk-toggleable\"><input class=\"sk-toggleable__control sk-hidden--visually\" id=\"sk-estimator-id-45\" type=\"checkbox\" ><label for=\"sk-estimator-id-45\" class=\"sk-toggleable__label fitted sk-toggleable__label-arrow fitted\">&nbsp;LogisticRegression<a class=\"sk-estimator-doc-link fitted\" rel=\"noreferrer\" target=\"_blank\" href=\"https://scikit-learn.org/1.4/modules/generated/sklearn.linear_model.LogisticRegression.html\">?<span>Documentation for LogisticRegression</span></a></label><div class=\"sk-toggleable__content fitted\"><pre>LogisticRegression()</pre></div> </div></div></div></div></div></div></div></div></div></div></div>"
      ],
      "text/plain": [
       "StackingClassifier(estimators=[('knn', KNeighborsClassifier(n_neighbors=11)),\n",
       "                               ('XGb',\n",
       "                                XGBClassifier(base_score=None, booster=None,\n",
       "                                              callbacks=None,\n",
       "                                              colsample_bylevel=None,\n",
       "                                              colsample_bynode=None,\n",
       "                                              colsample_bytree=None,\n",
       "                                              device=None,\n",
       "                                              early_stopping_rounds=None,\n",
       "                                              enable_categorical=False,\n",
       "                                              eval_metric=None,\n",
       "                                              feature_types=None,\n",
       "                                              feature_weights=None, gamma=None,\n",
       "                                              grow_polic...\n",
       "                                              interaction_constraints=None,\n",
       "                                              learning_rate=None, max_bin=None,\n",
       "                                              max_cat_threshold=None,\n",
       "                                              max_cat_to_onehot=None,\n",
       "                                              max_delta_step=None,\n",
       "                                              max_depth=None, max_leaves=None,\n",
       "                                              min_child_weight=None,\n",
       "                                              missing=nan,\n",
       "                                              monotone_constraints=None,\n",
       "                                              multi_strategy=None,\n",
       "                                              n_estimators=None, n_jobs=None,\n",
       "                                              num_parallel_tree=None, ...)),\n",
       "                               ('lgbm', LGBMClassifier())],\n",
       "                   final_estimator=LogisticRegression())"
      ]
     },
     "execution_count": 169,
     "metadata": {},
     "output_type": "execute_result"
    }
   ],
   "source": [
    "meta_model = LogisticRegression()\n",
    "\n",
    "estimators = [\n",
    "    ('knn', knn_grs),\n",
    "    ('XGb', xgb),\n",
    "    ('lgbm', lgboost)\n",
    "]\n",
    "stack = StackingClassifier(\n",
    "    estimators=estimators,\n",
    "    final_estimator=meta_model\n",
    ")\n",
    "stack.fit(X_cl_train,y_cl_train)"
   ]
  },
  {
   "cell_type": "code",
   "execution_count": 170,
   "metadata": {},
   "outputs": [
    {
     "name": "stdout",
     "output_type": "stream",
     "text": [
      "              precision    recall  f1-score   support\n",
      "\n",
      "           0       0.89      0.96      0.93      1606\n",
      "           1       0.77      0.52      0.62       394\n",
      "\n",
      "    accuracy                           0.88      2000\n",
      "   macro avg       0.83      0.74      0.77      2000\n",
      "weighted avg       0.87      0.88      0.87      2000\n",
      "\n"
     ]
    }
   ],
   "source": [
    "y_pred_cl_st = stack.predict(X_cl_test)\n",
    "CR_st = classification_report(y_cl_test,y_pred_cl_st)\n",
    "print(CR_st)"
   ]
  },
  {
   "cell_type": "markdown",
   "metadata": {},
   "source": [
    "В качестве базовых моделей использовались два алгоритма градиентного бустинга, а также KNN с подбором количества соседей. В качестве метамодели используется логистическая регрессия."
   ]
  }
 ],
 "metadata": {
  "colab": {
   "collapsed_sections": [
    "k02Go1EICMMf",
    "F7SPcKDYCny2",
    "Nn8qwo6VLxqH",
    "yG8vLh18QEyK",
    "APQys213y84B",
    "3LVrUJ1OAru8"
   ],
   "name": "oait_task_for_candidate_classicml_questions.ipynb",
   "provenance": []
  },
  "kernelspec": {
   "display_name": "Python 3",
   "language": "python",
   "name": "python3"
  },
  "language_info": {
   "codemirror_mode": {
    "name": "ipython",
    "version": 3
   },
   "file_extension": ".py",
   "mimetype": "text/x-python",
   "name": "python",
   "nbconvert_exporter": "python",
   "pygments_lexer": "ipython3",
   "version": "3.12.3"
  }
 },
 "nbformat": 4,
 "nbformat_minor": 1
}
